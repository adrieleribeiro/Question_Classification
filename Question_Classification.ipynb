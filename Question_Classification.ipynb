{
  "nbformat": 4,
  "nbformat_minor": 0,
  "metadata": {
    "colab": {
      "name": "Question_Classification.ipynb",
      "provenance": [],
      "authorship_tag": "ABX9TyPhI9YHw83hGKO0wJXgm5Cn",
      "include_colab_link": true
    },
    "kernelspec": {
      "name": "python3",
      "display_name": "Python 3"
    }
  },
  "cells": [
    {
      "cell_type": "markdown",
      "metadata": {
        "id": "view-in-github",
        "colab_type": "text"
      },
      "source": [
        "<a href=\"https://colab.research.google.com/github/adrieleribeiro/Question_Classification/blob/main/Question_Classification.ipynb\" target=\"_parent\"><img src=\"https://colab.research.google.com/assets/colab-badge.svg\" alt=\"Open In Colab\"/></a>"
      ]
    },
    {
      "cell_type": "markdown",
      "metadata": {
        "id": "3rRh1WP3Ye6n"
      },
      "source": [
        "## Question classification based on Bloom’s taxonomy cognitive domain"
      ]
    },
    {
      "cell_type": "markdown",
      "metadata": {
        "id": "gXaBh9IGYupw"
      },
      "source": [
        "### TF-IDF"
      ]
    },
    {
      "cell_type": "markdown",
      "metadata": {
        "id": "li4TXdo_gymD"
      },
      "source": [
        "Reproduzindo: https://towardsdatascience.com/natural-language-processing-feature-engineering-using-tf-idf-e8b9d00e7e76"
      ]
    },
    {
      "cell_type": "code",
      "metadata": {
        "id": "mJwFeW-2OTWG"
      },
      "source": [
        "import pandas as pd"
      ],
      "execution_count": 47,
      "outputs": []
    },
    {
      "cell_type": "code",
      "metadata": {
        "id": "_B2tzrTXYsyl"
      },
      "source": [
        "from sklearn.feature_extraction.text import TfidfVectorizer"
      ],
      "execution_count": 48,
      "outputs": []
    },
    {
      "cell_type": "code",
      "metadata": {
        "colab": {
          "base_uri": "https://localhost:8080/"
        },
        "id": "iQecb8MYiPhW",
        "outputId": "dead50f1-92c1-4e89-aa1e-59431f93e202"
      },
      "source": [
        "import nltk\r\n",
        "nltk.download('stopwords')\r\n",
        "from nltk.corpus import stopwords"
      ],
      "execution_count": 49,
      "outputs": [
        {
          "output_type": "stream",
          "text": [
            "[nltk_data] Downloading package stopwords to /root/nltk_data...\n",
            "[nltk_data]   Package stopwords is already up-to-date!\n"
          ],
          "name": "stdout"
        }
      ]
    },
    {
      "cell_type": "code",
      "metadata": {
        "id": "VjgufSyWgmby"
      },
      "source": [
        "documentA = 'the man went out for a walk'\r\n",
        "documentB = 'the children sat around the fire'"
      ],
      "execution_count": 50,
      "outputs": []
    },
    {
      "cell_type": "code",
      "metadata": {
        "id": "UsbD3iEzgvDx"
      },
      "source": [
        "bagOfWordsA = documentA.split(' ')\r\n",
        "bagOfWordsB = documentB.split(' ')"
      ],
      "execution_count": 51,
      "outputs": []
    },
    {
      "cell_type": "code",
      "metadata": {
        "id": "zkGvIJtIhE7C"
      },
      "source": [
        "uniqueWords = set(bagOfWordsA).union(set(bagOfWordsB))"
      ],
      "execution_count": 52,
      "outputs": []
    },
    {
      "cell_type": "code",
      "metadata": {
        "id": "XQAWZzikhMpN"
      },
      "source": [
        "numOfWordsA = dict.fromkeys(uniqueWords, 0)\r\n",
        "for word in bagOfWordsA:\r\n",
        "    numOfWordsA[word] += 1\r\n",
        "numOfWordsB = dict.fromkeys(uniqueWords, 0)\r\n",
        "for word in bagOfWordsB:\r\n",
        "    numOfWordsB[word] += 1"
      ],
      "execution_count": 53,
      "outputs": []
    },
    {
      "cell_type": "code",
      "metadata": {
        "colab": {
          "base_uri": "https://localhost:8080/"
        },
        "id": "fa9Cb3Cjhd6F",
        "outputId": "343a9d7d-6180-4f68-e9df-8c029fb9e09b"
      },
      "source": [
        "print(stopwords.words('english'))"
      ],
      "execution_count": 54,
      "outputs": [
        {
          "output_type": "stream",
          "text": [
            "['i', 'me', 'my', 'myself', 'we', 'our', 'ours', 'ourselves', 'you', \"you're\", \"you've\", \"you'll\", \"you'd\", 'your', 'yours', 'yourself', 'yourselves', 'he', 'him', 'his', 'himself', 'she', \"she's\", 'her', 'hers', 'herself', 'it', \"it's\", 'its', 'itself', 'they', 'them', 'their', 'theirs', 'themselves', 'what', 'which', 'who', 'whom', 'this', 'that', \"that'll\", 'these', 'those', 'am', 'is', 'are', 'was', 'were', 'be', 'been', 'being', 'have', 'has', 'had', 'having', 'do', 'does', 'did', 'doing', 'a', 'an', 'the', 'and', 'but', 'if', 'or', 'because', 'as', 'until', 'while', 'of', 'at', 'by', 'for', 'with', 'about', 'against', 'between', 'into', 'through', 'during', 'before', 'after', 'above', 'below', 'to', 'from', 'up', 'down', 'in', 'out', 'on', 'off', 'over', 'under', 'again', 'further', 'then', 'once', 'here', 'there', 'when', 'where', 'why', 'how', 'all', 'any', 'both', 'each', 'few', 'more', 'most', 'other', 'some', 'such', 'no', 'nor', 'not', 'only', 'own', 'same', 'so', 'than', 'too', 'very', 's', 't', 'can', 'will', 'just', 'don', \"don't\", 'should', \"should've\", 'now', 'd', 'll', 'm', 'o', 're', 've', 'y', 'ain', 'aren', \"aren't\", 'couldn', \"couldn't\", 'didn', \"didn't\", 'doesn', \"doesn't\", 'hadn', \"hadn't\", 'hasn', \"hasn't\", 'haven', \"haven't\", 'isn', \"isn't\", 'ma', 'mightn', \"mightn't\", 'mustn', \"mustn't\", 'needn', \"needn't\", 'shan', \"shan't\", 'shouldn', \"shouldn't\", 'wasn', \"wasn't\", 'weren', \"weren't\", 'won', \"won't\", 'wouldn', \"wouldn't\"]\n"
          ],
          "name": "stdout"
        }
      ]
    },
    {
      "cell_type": "code",
      "metadata": {
        "id": "6oG7oGbuhkdP"
      },
      "source": [
        "def computeTF(wordDict, bagOfWords):\r\n",
        "    tfDict = {}\r\n",
        "    bagOfWordsCount = len(bagOfWords)\r\n",
        "    for word, count in wordDict.items():\r\n",
        "        tfDict[word] = count / float(bagOfWordsCount)\r\n",
        "    return tfDict"
      ],
      "execution_count": 55,
      "outputs": []
    },
    {
      "cell_type": "code",
      "metadata": {
        "id": "478S_9-7hl9Z"
      },
      "source": [
        "tfA = computeTF(numOfWordsA, bagOfWordsA)\r\n",
        "tfB = computeTF(numOfWordsB, bagOfWordsB)"
      ],
      "execution_count": 56,
      "outputs": []
    },
    {
      "cell_type": "code",
      "metadata": {
        "id": "heT6dO7uhqVk"
      },
      "source": [
        "def computeIDF(documents):\r\n",
        "    import math\r\n",
        "    N = len(documents)\r\n",
        "    \r\n",
        "    idfDict = dict.fromkeys(documents[0].keys(), 0)\r\n",
        "    for document in documents:\r\n",
        "        for word, val in document.items():\r\n",
        "            if val > 0:\r\n",
        "                idfDict[word] += 1\r\n",
        "    \r\n",
        "    for word, val in idfDict.items():\r\n",
        "        idfDict[word] = math.log(N / float(val))\r\n",
        "    return idfDict"
      ],
      "execution_count": 57,
      "outputs": []
    },
    {
      "cell_type": "code",
      "metadata": {
        "id": "kXbLVxJihttC"
      },
      "source": [
        "idfs = computeIDF([numOfWordsA, numOfWordsB])"
      ],
      "execution_count": 58,
      "outputs": []
    },
    {
      "cell_type": "code",
      "metadata": {
        "id": "5gpxmoBRhvXu"
      },
      "source": [
        "def computeTFIDF(tfBagOfWords, idfs):\r\n",
        "    tfidf = {}\r\n",
        "    for word, val in tfBagOfWords.items():\r\n",
        "        tfidf[word] = val * idfs[word]\r\n",
        "    return tfidf"
      ],
      "execution_count": 59,
      "outputs": []
    },
    {
      "cell_type": "code",
      "metadata": {
        "id": "TfyQHN2lhxYl"
      },
      "source": [
        "tfidfA = computeTFIDF(tfA, idfs)\r\n",
        "tfidfB = computeTFIDF(tfB, idfs)\r\n",
        "df = pd.DataFrame([tfidfA, tfidfB])"
      ],
      "execution_count": 60,
      "outputs": []
    },
    {
      "cell_type": "code",
      "metadata": {
        "id": "D2xjmzCPh0Tj"
      },
      "source": [
        "vectorizer = TfidfVectorizer()\r\n",
        "vectors = vectorizer.fit_transform([documentA, documentB])\r\n",
        "feature_names = vectorizer.get_feature_names()\r\n",
        "dense = vectors.todense()\r\n",
        "denselist = dense.tolist()\r\n",
        "df = pd.DataFrame(denselist, columns=feature_names)"
      ],
      "execution_count": 61,
      "outputs": []
    }
  ]
}